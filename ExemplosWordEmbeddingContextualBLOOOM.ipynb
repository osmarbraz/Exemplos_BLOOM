{
  "nbformat": 4,
  "nbformat_minor": 0,
  "metadata": {
    "colab": {
      "provenance": [],
      "collapsed_sections": [],
      "toc_visible": true,
      "include_colab_link": true
    },
    "kernelspec": {
      "name": "python3",
      "display_name": "Python 3"
    }
  },
  "cells": [
    {
      "cell_type": "markdown",
      "metadata": {
        "id": "view-in-github",
        "colab_type": "text"
      },
      "source": [
        "<a href=\"https://colab.research.google.com/github/osmarbraz/Exemplos_BLOOM/blob/main/ExemplosWordEmbeddingContextualBLOOOM.ipynb\" target=\"_parent\"><img src=\"https://colab.research.google.com/assets/colab-badge.svg\" alt=\"Open In Colab\"/></a>"
      ]
    },
    {
      "cell_type": "markdown",
      "metadata": {
        "id": "78HE8FLsKN9Q"
      },
      "source": [
        "#Exemplo de Desambiguação de palavras usando BLOOM Transformers by HuggingFace\n",
        "\n",
        "https://huggingface.co/docs/transformers/model_doc/bloom\n",
        "\n",
        "https://huggingface.co/blog/bloom-megatron-deepspeed\n",
        "\n",
        "https://huggingface.co/blog/zero-shot-eval-on-the-hub\n",
        "\n",
        "# **A execução pode ser feita através do menu Ambiente de Execução opção Executar tudo.**\n",
        "\n",
        "Exemplo de geração de textos emm:\n",
        "https://huggingface.co/spaces/huggingface/bloom_demo\n",
        "\n",
        "Exemplos de **Desambiguação de palavras(pt-br)** usando **BLOOM** em sentenças. No final do notebook estão os exemplos com as palavras:\n",
        "\n",
        "**Link biblioteca Huggingface:**\n",
        "https://github.com/huggingface/transformers\n",
        "\n",
        "\n"
      ]
    },
    {
      "cell_type": "markdown",
      "metadata": {
        "id": "xyxb5Px3p1-e"
      },
      "source": [
        "# 0 - Preparação do ambiente\n",
        "Preparação do ambiente para execução do exemplo."
      ]
    },
    {
      "cell_type": "markdown",
      "metadata": {
        "id": "iAPVtRXQqDim"
      },
      "source": [
        "## Tratamento de logs\n",
        "\n",
        "Método para tratamento dos logs."
      ]
    },
    {
      "cell_type": "code",
      "metadata": {
        "id": "DcopxbGZqDip"
      },
      "source": [
        "# Biblioteca de logging\n",
        "import logging\n",
        "\n",
        "# Formatando a mensagem de logging\n",
        "logging.basicConfig(format=\"%(asctime)s : %(levelname)s : %(message)s\", level=logging.INFO)"
      ],
      "execution_count": 1,
      "outputs": []
    },
    {
      "cell_type": "markdown",
      "metadata": {
        "id": "_GjYtXcMnSAe"
      },
      "source": [
        "## Identificando o ambiente Colab\n",
        "\n",
        "Cria uma variável para identificar que o notebook está sendo executado no Google Colaboratory."
      ]
    },
    {
      "cell_type": "code",
      "metadata": {
        "id": "YMiH0E3OnRa1"
      },
      "source": [
        "# Se estiver executando no Google Colaboratory\n",
        "import sys\n",
        "\n",
        "# Retorna true ou false se estiver no Google Colaboratory\n",
        "IN_COLAB = \"google.colab\" in sys.modules"
      ],
      "execution_count": 2,
      "outputs": []
    },
    {
      "cell_type": "markdown",
      "metadata": {
        "id": "Pqa-7WXBAw8q"
      },
      "source": [
        "# 1 - Instalação Transformer da Hugging Face"
      ]
    },
    {
      "cell_type": "markdown",
      "metadata": {
        "id": "eCdqJCtQN52l"
      },
      "source": [
        "Instala a interface pytorch para o BERT by Hugging Face. "
      ]
    },
    {
      "cell_type": "code",
      "metadata": {
        "id": "1RfUN_KolV-f",
        "colab": {
          "base_uri": "https://localhost:8080/"
        },
        "outputId": "3980268b-d11a-425a-c112-b6f1efaa92fd"
      },
      "source": [
        "# Instala a última versão da biblioteca\n",
        "# !pip install transformers\n",
        "\n",
        "# Instala uma versão específica da biblioteca\n",
        "!pip install -U transformers==4.23.1"
      ],
      "execution_count": 3,
      "outputs": [
        {
          "output_type": "stream",
          "name": "stdout",
          "text": [
            "Looking in indexes: https://pypi.org/simple, https://us-python.pkg.dev/colab-wheels/public/simple/\n",
            "Requirement already satisfied: transformers==4.23.1 in /usr/local/lib/python3.7/dist-packages (4.23.1)\n",
            "Requirement already satisfied: pyyaml>=5.1 in /usr/local/lib/python3.7/dist-packages (from transformers==4.23.1) (6.0)\n",
            "Requirement already satisfied: filelock in /usr/local/lib/python3.7/dist-packages (from transformers==4.23.1) (3.8.0)\n",
            "Requirement already satisfied: tokenizers!=0.11.3,<0.14,>=0.11.1 in /usr/local/lib/python3.7/dist-packages (from transformers==4.23.1) (0.13.1)\n",
            "Requirement already satisfied: regex!=2019.12.17 in /usr/local/lib/python3.7/dist-packages (from transformers==4.23.1) (2022.6.2)\n",
            "Requirement already satisfied: packaging>=20.0 in /usr/local/lib/python3.7/dist-packages (from transformers==4.23.1) (21.3)\n",
            "Requirement already satisfied: tqdm>=4.27 in /usr/local/lib/python3.7/dist-packages (from transformers==4.23.1) (4.64.1)\n",
            "Requirement already satisfied: requests in /usr/local/lib/python3.7/dist-packages (from transformers==4.23.1) (2.23.0)\n",
            "Requirement already satisfied: numpy>=1.17 in /usr/local/lib/python3.7/dist-packages (from transformers==4.23.1) (1.21.6)\n",
            "Requirement already satisfied: importlib-metadata in /usr/local/lib/python3.7/dist-packages (from transformers==4.23.1) (5.0.0)\n",
            "Requirement already satisfied: huggingface-hub<1.0,>=0.10.0 in /usr/local/lib/python3.7/dist-packages (from transformers==4.23.1) (0.10.1)\n",
            "Requirement already satisfied: typing-extensions>=3.7.4.3 in /usr/local/lib/python3.7/dist-packages (from huggingface-hub<1.0,>=0.10.0->transformers==4.23.1) (4.1.1)\n",
            "Requirement already satisfied: pyparsing!=3.0.5,>=2.0.2 in /usr/local/lib/python3.7/dist-packages (from packaging>=20.0->transformers==4.23.1) (3.0.9)\n",
            "Requirement already satisfied: zipp>=0.5 in /usr/local/lib/python3.7/dist-packages (from importlib-metadata->transformers==4.23.1) (3.9.0)\n",
            "Requirement already satisfied: certifi>=2017.4.17 in /usr/local/lib/python3.7/dist-packages (from requests->transformers==4.23.1) (2022.9.24)\n",
            "Requirement already satisfied: idna<3,>=2.5 in /usr/local/lib/python3.7/dist-packages (from requests->transformers==4.23.1) (2.10)\n",
            "Requirement already satisfied: urllib3!=1.25.0,!=1.25.1,<1.26,>=1.21.1 in /usr/local/lib/python3.7/dist-packages (from requests->transformers==4.23.1) (1.24.3)\n",
            "Requirement already satisfied: chardet<4,>=3.0.2 in /usr/local/lib/python3.7/dist-packages (from requests->transformers==4.23.1) (3.0.4)\n"
          ]
        }
      ]
    },
    {
      "cell_type": "markdown",
      "metadata": {
        "id": "Bcpd9t9PpkrX"
      },
      "source": [
        "# 2 - Carregando o BLOOM\n",
        "\n",
        "O modelo BLOOM foi proposto com suas várias versões através do BigScience Workshop. A BigScience é inspirada em outras iniciativas de ciência aberta onde os pesquisadores reuniram seu tempo e recursos para alcançar coletivamente um impacto maior. A arquitetura do BLOOM é essencialmente semelhante ao GPT3 (modelo auto-regressivo para previsão do próximo token), mas foi treinado em 46 linguagens diferentes e 13 linguagens de programação. Várias versões menores dos modelos foram treinadas no mesmo conjunto de dados. BLOOM está disponível nas seguintes versões:\n",
        "\n",
        "\n",
        "Modelos:\n",
        " - bigscience-small-testing (32,3 MB) - Ok Colab\n",
        " - bloom-560m (1,12 GB) - Ok Colab \n",
        " - bloom-1b1 (2,13 GB) - Ok Colab\n",
        " - bloom-1b7 (3,44 GB) - Não carrega no Colab\n",
        " - bloom-3b (6,01 GB) - Não carrega no Colab\n",
        " - bloom-7b1 (9,98 + 4,16 GB) - Não carrega no Colab\n",
        " - bloom (176 Bilhões de parâmetros) (7,19 GB + 44 * 4,93GB)\n",
        "\n",
        " Lista dos modelos:\n",
        "  - https://huggingface.co/models?other=bloom"
      ]
    },
    {
      "cell_type": "code",
      "source": [
        "# modelo_bloom = \"bigscience-small-testing\"\n",
        "# modelo_bloom = \"bigscience/bloom-560m\"\n",
        "modelo_bloom = \"bigscience/bloom-1b1\"\n",
        "\n",
        "# modelo_bloom = \"bigscience/bloom-1b7\"\n",
        "# modelo_bloom = \"bigscience/bloom-3b\"\n",
        "# modelo_bloom = \"bigscience/bloom-7b1\"\n",
        "# modelo_bloom = \"bigscience/bloom\""
      ],
      "metadata": {
        "id": "trSVZon6jj9L"
      },
      "execution_count": 4,
      "outputs": []
    },
    {
      "cell_type": "markdown",
      "source": [
        "## 2.1 Carrega o tokenizador"
      ],
      "metadata": {
        "id": "qbEwi-sdjUEq"
      }
    },
    {
      "cell_type": "code",
      "source": [
        "from transformers import BloomTokenizerFast\n",
        "\n",
        "tokenizer = BloomTokenizerFast.from_pretrained(modelo_bloom)"
      ],
      "metadata": {
        "id": "Njp5Km8Wjpvn"
      },
      "execution_count": 5,
      "outputs": []
    },
    {
      "cell_type": "markdown",
      "metadata": {
        "id": "rE5sNEZ6jj9L"
      },
      "source": [
        "## 2.2 - Carregando o Modelo BLOOM(AutoModelForCausalLM)\n",
        "\n"
      ]
    },
    {
      "cell_type": "code",
      "source": [
        "from transformers import BloomModel\n",
        "\n",
        "model = BloomModel.from_pretrained(\"bigscience/bloom-560m\")"
      ],
      "metadata": {
        "id": "nRdINfE8jnhv"
      },
      "execution_count": 6,
      "outputs": []
    },
    {
      "cell_type": "markdown",
      "source": [
        "# 4 - Funções auxiliares"
      ],
      "metadata": {
        "id": "UnrL_hexGEGD"
      }
    },
    {
      "cell_type": "markdown",
      "metadata": {
        "id": "jt06PTN5idrg"
      },
      "source": [
        "## Similaridade do cosseno entre os embeddings.\n",
        "\n",
        "https://docs.scipy.org/doc/scipy/reference/generated/scipy.spatial.distance.cosine.html#scipy.spatial.distance.cosine\n",
        "\n",
        "A função spatial.distance.cosine do módulo scipy calcula a distância em vez da similaridade do cosseno, mas para conseguir isso, podemos subtrair o valor da distância de 1.\n",
        "\n",
        "Intervalo de [-1,1] \n",
        "\n",
        "Vetores iguais a distância é igual 1.\n",
        "\n",
        "Vetores diferentes medida próxima de -1."
      ]
    },
    {
      "cell_type": "code",
      "metadata": {
        "id": "6vbXj-brOlMF"
      },
      "source": [
        "# Import das bibliotecas.\n",
        "from scipy.spatial.distance import cosine\n",
        "\n",
        "def similaridadeCosseno(embeddings1, embeddings2):\n",
        "    \"\"\"\n",
        "      Similaridade do cosseno dos embeddings dos textos.\n",
        "      \n",
        "      Parâmetros:\n",
        "      `embeddings1` - Um embedding a ser medido.\n",
        "      `embeddings2` - Um embedding a ser medido.\n",
        "    \"\"\"\n",
        "    \n",
        "    similaridade = 1 - cosine(embeddings1, embeddings2)\n",
        "    \n",
        "    return similaridade"
      ],
      "execution_count": 7,
      "outputs": []
    },
    {
      "cell_type": "markdown",
      "metadata": {
        "id": "_IcrjAbhwake"
      },
      "source": [
        "## Distância Euclidiana entre os embeddings.\n",
        "\n",
        "Possui outros nomes como distância L2 ou norma L2.\n",
        "\n",
        "https://docs.scipy.org/doc/scipy/reference/generated/scipy.spatial.distance.euclidean.html#scipy.spatial.distance.euclidean"
      ]
    },
    {
      "cell_type": "code",
      "metadata": {
        "id": "mIrTId9jwakh"
      },
      "source": [
        "# Import das bibliotecas.\n",
        "from scipy.spatial.distance import euclidean\n",
        "\n",
        "def distanciaEuclidiana(embeddings1, embeddings2):\n",
        "    \"\"\"\n",
        "      Distância euclidiana entre os embeddings dos textos.\n",
        "      Possui outros nomes como distância L2 ou norma L2.\n",
        "      \n",
        "      Parâmetros:\n",
        "      `embeddings1` - Um embedding a ser medido.\n",
        "      `embeddings2` - Um embedding a ser medido.\n",
        "    \"\"\"\n",
        "    \n",
        "    distancia = euclidean(embeddings1, embeddings2)\n",
        "    \n",
        "    return distancia"
      ],
      "execution_count": 8,
      "outputs": []
    },
    {
      "cell_type": "markdown",
      "metadata": {
        "id": "-uJlqYCSXdVk"
      },
      "source": [
        "## Distância Manhattan entre os embeddings.\n",
        "\n",
        "Possui outros nomes como distância Cityblock, distância L1, norma L1 e métrica do táxi.\n",
        "\n",
        "https://docs.scipy.org/doc/scipy/reference/generated/scipy.spatial.distance.cityblock.html#scipy.spatial.distance.cityblock"
      ]
    },
    {
      "cell_type": "code",
      "metadata": {
        "id": "jFG5UT_SXdVn"
      },
      "source": [
        "# Import das bibliotecas.\n",
        "from scipy.spatial.distance import cityblock\n",
        "\n",
        "def distanciaManhattan(embeddings1, embeddings2):\n",
        "    \"\"\"\n",
        "      Distância Manhattan entre os embeddings dos textos \n",
        "      Possui outros nomes como distância Cityblock, distância L1, norma L1 e métrica do táxi.\n",
        "      \n",
        "      Parâmetros:\n",
        "      `embeddings1` - Um embedding a ser medido.\n",
        "      `embeddings2` - Um embedding a ser medido.\n",
        "    \"\"\"\n",
        "    \n",
        "    distancia = cityblock(embeddings1, embeddings2)\n",
        "\n",
        "    return distancia"
      ],
      "execution_count": 9,
      "outputs": []
    },
    {
      "cell_type": "markdown",
      "source": [
        "# 4 - Exemplos com BLOOM"
      ],
      "metadata": {
        "id": "1qezcBkxnEdR"
      }
    },
    {
      "cell_type": "markdown",
      "metadata": {
        "id": "V4Pd6-h0YD8U"
      },
      "source": [
        "## 4.1 - Exemplo palavra \"banco\"\n",
        "\n",
        "O exemplo com a palavra banco foi realizado utilizando a última camada, soma das 4 últimas, concatenação das 4 últimas camadas e a soma de todas as camadas."
      ]
    },
    {
      "cell_type": "markdown",
      "metadata": {
        "id": "G-twjfTgfAWs"
      },
      "source": [
        "#### Inicialização"
      ]
    },
    {
      "cell_type": "code",
      "metadata": {
        "id": "8QP-2tC8YOFW",
        "colab": {
          "base_uri": "https://localhost:8080/"
        },
        "outputId": "5349b6d8-052e-4982-f228-838ab77a8c1f"
      },
      "source": [
        "# Define um sentença de exemplo com diversos significados da palavra  \"banco\"\n",
        "documento = \"Depois de roubar o cofre do banco,\"\\\n",
        "        \" o ladrão de banco foi visto \" \\\n",
        "        \"sentado no banco da praça central.\"\n",
        "\n",
        "# Divide a sentença em tokens\n",
        "input = tokenizer(documento, return_tensors=\"pt\")\n",
        "\n",
        "# Mostra os tokens com seus índices\n",
        "i = 0\n",
        "for tup in zip(input['input_ids'][0], input['attention_mask'][0]):\n",
        "    # print(tup[0], tup[1])\n",
        "    print(\"{:>3} {} {}\".format(i, tup[0], tup[1]))\n",
        "    i= i + 1"
      ],
      "execution_count": 10,
      "outputs": [
        {
          "output_type": "stream",
          "name": "stdout",
          "text": [
            "  0 56120 1\n",
            "  1 283 1\n",
            "  2 172781 1\n",
            "  3 329 1\n",
            "  4 246831 1\n",
            "  5 727 1\n",
            "  6 39406 1\n",
            "  7 15 1\n",
            "  8 329 1\n",
            "  9 68832 1\n",
            " 10 631 1\n",
            " 11 283 1\n",
            " 12 39406 1\n",
            " 13 4455 1\n",
            " 14 21669 1\n",
            " 15 104405 1\n",
            " 16 654 1\n",
            " 17 39406 1\n",
            " 18 891 1\n",
            " 19 127597 1\n",
            " 20 9001 1\n",
            " 21 17 1\n"
          ]
        }
      ]
    },
    {
      "cell_type": "markdown",
      "metadata": {
        "id": "PG5DPYmuYs6A"
      },
      "source": [
        "Gera os embeddings para a sentença e retorna a saída em  `outputs`.\n"
      ]
    },
    {
      "cell_type": "code",
      "metadata": {
        "id": "1-hYiWnRYs6B"
      },
      "source": [
        "import torch\n",
        "\n",
        "# Prediz os atributos dos estados ocultos para cada camada\n",
        "with torch.no_grad():    \n",
        "  \n",
        "    # Retorno de model quando output_hidden_states=True´ é setado:    \n",
        "    outputs = model(**input)   "
      ],
      "execution_count": 11,
      "outputs": []
    },
    {
      "cell_type": "markdown",
      "metadata": {
        "id": "QQ1ki-4pfF9r"
      },
      "source": [
        "#### Visualizando o intervalo de valores"
      ]
    },
    {
      "cell_type": "markdown",
      "metadata": {
        "id": "5qpl6dS5Ys6E"
      },
      "source": [
        "Recupera a última camada."
      ]
    },
    {
      "cell_type": "code",
      "metadata": {
        "id": "7SgPmDP7Ys6E",
        "colab": {
          "base_uri": "https://localhost:8080/"
        },
        "outputId": "14965885-185d-438d-ba79-235e7820fc59"
      },
      "source": [
        "# Recupera a última camada oculta da saída\n",
        "last_hidden_states = outputs.last_hidden_state\n",
        "\n",
        "print (\"O vetor da última camada oculta tem o formato:\", last_hidden_states.size())"
      ],
      "execution_count": 12,
      "outputs": [
        {
          "output_type": "stream",
          "name": "stdout",
          "text": [
            "O vetor da última camada oculta tem o formato: torch.Size([1, 22, 1024])\n"
          ]
        }
      ]
    },
    {
      "cell_type": "markdown",
      "metadata": {
        "id": "Ejt5Ty9RYs6G"
      },
      "source": [
        "Plota de valores para o token."
      ]
    },
    {
      "cell_type": "code",
      "metadata": {
        "id": "sj2l1MIbYs6H",
        "colab": {
          "base_uri": "https://localhost:8080/",
          "height": 638
        },
        "outputId": "f78f6bbb-51ab-48e2-96b7-f9bdc796ebab"
      },
      "source": [
        "# Import da biblioteca gráfica\n",
        "import matplotlib.pyplot as plt\n",
        "%matplotlib inline\n",
        "\n",
        "# Plota os tokens da sentença\n",
        "token_i = 8\n",
        "layer_i = 0\n",
        "\n",
        "# Recupera o vetor de embeddings da camada para o token\n",
        "vec = last_hidden_states[layer_i][token_i]\n",
        "\n",
        "# Mostra a palavra do token_i\n",
        "print(input['input_ids'][0][token_i], input['attention_mask'][0][token_i])\n",
        "\n",
        "# Aumenta o tamanho da plotagem do gráfico\n",
        "plt.figure(figsize=(15,10))\n",
        "\n",
        "# Título do gráfico\n",
        "plt.title(\"Distribuição dos valores dos parâmetros do embedding da última camada do token\")\n",
        "# Documento do eixo x\n",
        "plt.xlabel(\"#Valores\")\n",
        "# Documento do eixo y\n",
        "plt.ylabel(\"Ocorrências\")\n",
        "\n",
        "# Cria o histograma com 200 classes\n",
        "plt.hist(vec, bins=200)\n",
        "\n",
        "# Mostra o gráfico\n",
        "plt.show()"
      ],
      "execution_count": 13,
      "outputs": [
        {
          "output_type": "stream",
          "name": "stdout",
          "text": [
            "tensor(329) tensor(1)\n"
          ]
        },
        {
          "output_type": "display_data",
          "data": {
            "text/plain": [
              "<Figure size 1080x720 with 1 Axes>"
            ],
            "image/png": "[encoded data removed]"
          },
          "metadata": {
            "needs_background": "light"
          }
        }
      ]
    },
    {
      "cell_type": "markdown",
      "metadata": {
        "id": "VfxvUL24Ys6J"
      },
      "source": [
        "Vamos nos livrar da dimensão lotes \"batches\", pois não precisamos dela."
      ]
    },
    {
      "cell_type": "code",
      "metadata": {
        "id": "22_WYRIPYs6J",
        "colab": {
          "base_uri": "https://localhost:8080/"
        },
        "outputId": "3d7412e6-dcf7-41a2-b6b6-9b4dca211d78"
      },
      "source": [
        "print (\"O vetor da última camada oculta tem o formato:\", last_hidden_states.size())\n",
        "\n",
        "# Remove a dimensão 1, o lote \"batches\".\n",
        "# O método ´squeeze´ remove a primeira dimensão(0) pois possui tamanho 1\n",
        "token_embeddings = torch.squeeze(last_hidden_states, dim=0)\n",
        "\n",
        "print (\"O vetor de tokens de embedding da senteça tem o formato:\", token_embeddings.size())"
      ],
      "execution_count": 14,
      "outputs": [
        {
          "output_type": "stream",
          "name": "stdout",
          "text": [
            "O vetor da última camada oculta tem o formato: torch.Size([1, 22, 1024])\n",
            "O vetor de tokens de embedding da senteça tem o formato: torch.Size([22, 1024])\n"
          ]
        }
      ]
    },
    {
      "cell_type": "markdown",
      "metadata": {
        "id": "S6gogy9DYs6O"
      },
      "source": [
        "Confirmando vetores dependentes do documento\n"
      ]
    },
    {
      "cell_type": "code",
      "source": [
        "for i, ind in enumerate(input['input_ids'][0]):\n",
        "    print(i, ind, tokenizer.convert_ids_to_tokens(ind.item()))"
      ],
      "metadata": {
        "colab": {
          "base_uri": "https://localhost:8080/"
        },
        "id": "puqTBCdeLeXT",
        "outputId": "f693a790-4f35-47ed-e200-548bd59e22c8"
      },
      "execution_count": 15,
      "outputs": [
        {
          "output_type": "stream",
          "name": "stdout",
          "text": [
            "0 tensor(56120) Depois\n",
            "1 tensor(283) Ġde\n",
            "2 tensor(172781) Ġroubar\n",
            "3 tensor(329) Ġo\n",
            "4 tensor(246831) Ġcofre\n",
            "5 tensor(727) Ġdo\n",
            "6 tensor(39406) Ġbanco\n",
            "7 tensor(15) ,\n",
            "8 tensor(329) Ġo\n",
            "9 tensor(68832) Ġladr\n",
            "10 tensor(631) Ã£o\n",
            "11 tensor(283) Ġde\n",
            "12 tensor(39406) Ġbanco\n",
            "13 tensor(4455) Ġfoi\n",
            "14 tensor(21669) Ġvisto\n",
            "15 tensor(104405) Ġsentado\n",
            "16 tensor(654) Ġno\n",
            "17 tensor(39406) Ġbanco\n",
            "18 tensor(891) Ġda\n",
            "19 tensor(127597) ĠpraÃ§a\n",
            "20 tensor(9001) Ġcentral\n",
            "21 tensor(17) .\n"
          ]
        }
      ]
    },
    {
      "cell_type": "markdown",
      "metadata": {
        "id": "-TysEHsOZaij"
      },
      "source": [
        "Exibe os embenddings das palavras"
      ]
    },
    {
      "cell_type": "markdown",
      "metadata": {
        "id": "VXZFKHQBZIFk"
      },
      "source": [
        "A banco aparece nos índices 8, 14 e 19.\n"
      ]
    },
    {
      "cell_type": "code",
      "metadata": {
        "id": "2hrWa-RzZIFl",
        "colab": {
          "base_uri": "https://localhost:8080/"
        },
        "outputId": "3198621e-63c4-47d7-ad00-b92a49a483f5"
      },
      "source": [
        "# Índice das palavras a serem comparadas\n",
        "palavra1 = 6\n",
        "palavra2 = 12\n",
        "palavra3 = 17\n",
        "\n",
        "print(\"Os primeiros 5 valores de cada instância de \\\"banco\\\".\")\n",
        "print(\"\")\n",
        "print(tokenizer.convert_ids_to_tokens(input['input_ids'][0][palavra1].item()), str(token_embeddings[palavra1][:5]))\n",
        "print(tokenizer.convert_ids_to_tokens(input['input_ids'][0][palavra2].item()), str(token_embeddings[palavra2][:5]))\n",
        "print(tokenizer.convert_ids_to_tokens(input['input_ids'][0][palavra3].item()), str(token_embeddings[palavra3][:5]))"
      ],
      "execution_count": 16,
      "outputs": [
        {
          "output_type": "stream",
          "name": "stdout",
          "text": [
            "Os primeiros 5 valores de cada instância de \"banco\".\n",
            "\n",
            "Ġbanco tensor([-1.2950,  3.6923,  4.6385, -3.9009, -6.2248])\n",
            "Ġbanco tensor([-0.7759, -2.3267,  0.2547,  0.7532, -7.3450])\n",
            "Ġbanco tensor([-1.7359, -0.7332, -0.4747, -5.6300, -8.6327])\n"
          ]
        }
      ]
    },
    {
      "cell_type": "markdown",
      "metadata": {
        "id": "-GgdLD3lZIFp"
      },
      "source": [
        "#### Comparando as palavras das sentenças\n",
        "Podemos ver que os valores diferem, mas vamos calcular a semelhança de cosseno entre os vetores para fazer uma comparação mais precisa."
      ]
    },
    {
      "cell_type": "code",
      "metadata": {
        "id": "_0Wz7anjZIFp",
        "colab": {
          "base_uri": "https://localhost:8080/"
        },
        "outputId": "574b9284-e7a6-48ff-f970-3e10b4f2b76a"
      },
      "source": [
        "print(\"Período:\", documento)\n",
        "print(\"Palavra 1 =\", palavra1, \"=\", tokenizer.convert_ids_to_tokens(input['input_ids'][0][palavra1].item()), \"(instituição financeira)\")\n",
        "print(\"Palavra 2 =\", palavra2, \"=\", tokenizer.convert_ids_to_tokens(input['input_ids'][0][palavra2].item()), \"(instituição financeira)\")\n",
        "print(\"Palavra 3 =\", palavra3, \"=\", tokenizer.convert_ids_to_tokens(input['input_ids'][0][palavra3].item()), \"(assento)\")\n",
        "\n",
        "# Calcula a similaridade de coseno entre as palavras banco\n",
        "# Em \"ladrão de banco\" versus \"banco da praça\" (diferentes significados).\n",
        "banco_diferente = similaridadeCosseno(token_embeddings[palavra2], token_embeddings[palavra3])\n",
        "\n",
        "print(\"Vetor de similaridade  para diferentes significados(\",palavra2,\",\",palavra3,\"):  %.2f\" % banco_diferente)\n",
        "\n",
        "# Calcula a similaridade de coseno entre as palavras banco\n",
        "# Em \"ladrão de banco\" versus \"cofre do banco\" (mesmo significado).\n",
        "mesmo_banco = similaridadeCosseno(token_embeddings[palavra2], token_embeddings[palavra1])\n",
        "\n",
        "print(\"Vetor de similaridade  para mesmo significado(\",palavra2,\",\",palavra1,\"):  %.2f\" % mesmo_banco)\n",
        "\n",
        "# Calcula a similaridade de coseno entre as palavras banco\n",
        "# Em \"cofre do banco\" versus \"banco da praça\" (diferente significados).\n",
        "banco_diferente2 = similaridadeCosseno(token_embeddings[palavra3], token_embeddings[palavra1])\n",
        "\n",
        "print(\"Vetor de similaridade  para diferentes significados(\",palavra3,\",\",palavra1,\"):  %.2f\" % banco_diferente2)"
      ],
      "execution_count": 17,
      "outputs": [
        {
          "output_type": "stream",
          "name": "stdout",
          "text": [
            "Período: Depois de roubar o cofre do banco, o ladrão de banco foi visto sentado no banco da praça central.\n",
            "Palavra 1 = 6 = Ġbanco (instituição financeira)\n",
            "Palavra 2 = 12 = Ġbanco (instituição financeira)\n",
            "Palavra 3 = 17 = Ġbanco (assento)\n",
            "Vetor de similaridade  para diferentes significados( 12 , 17 ):  0.99\n",
            "Vetor de similaridade  para mesmo significado( 12 , 6 ):  1.00\n",
            "Vetor de similaridade  para diferentes significados( 17 , 6 ):  1.00\n"
          ]
        }
      ]
    },
    {
      "cell_type": "markdown",
      "metadata": {
        "id": "3OwnIPA8a2-E"
      },
      "source": [
        "#### Visualizando a Sentença\n",
        "\n",
        "Aqui, queremos mostrar a conexão entre os tokens de uma sentença usando a incorporação do BERT. Plotamos as inserções dos tokens em um subespaço e marcadores finais e finais da sentença."
      ]
    },
    {
      "cell_type": "code",
      "metadata": {
        "id": "frxCW7XYa2-F"
      },
      "source": [
        "# Import das bibliotecas\n",
        "import numpy as np\n",
        "import torch\n",
        "\n",
        "import matplotlib.pyplot as plt\n",
        "%matplotlib inline"
      ],
      "execution_count": 18,
      "outputs": []
    },
    {
      "cell_type": "markdown",
      "metadata": {
        "id": "83oC5Q6na2-K"
      },
      "source": [
        "Transforma  o vetor de embendings em um array."
      ]
    },
    {
      "cell_type": "code",
      "metadata": {
        "id": "TGm-CmYya2-L"
      },
      "source": [
        "# Transforma tokens embeddings em um array\n",
        "embeddings = token_embeddings.numpy()"
      ],
      "execution_count": 19,
      "outputs": []
    },
    {
      "cell_type": "markdown",
      "metadata": {
        "id": "dUEejZ8ja2-P"
      },
      "source": [
        "Base selecionada."
      ]
    },
    {
      "cell_type": "code",
      "metadata": {
        "id": "V9lYmngTa2-P"
      },
      "source": [
        "# Converte para um array\n",
        "W = np.array(embeddings)\n",
        "# Transforma em um array\n",
        "B = np.array([embeddings[0], embeddings[-1]])\n",
        "# Inverte B.T\n",
        "Bi = np.linalg.pinv(B.T)"
      ],
      "execution_count": 20,
      "outputs": []
    },
    {
      "cell_type": "markdown",
      "metadata": {
        "id": "jxy3Ii79a2-S"
      },
      "source": [
        "Projeta os tokens da palavra no subespaço"
      ]
    },
    {
      "cell_type": "code",
      "metadata": {
        "id": "6XLcqxbla2-T"
      },
      "source": [
        "Wp = np.matmul(Bi,W.T)"
      ],
      "execution_count": 21,
      "outputs": []
    },
    {
      "cell_type": "markdown",
      "metadata": {
        "id": "Ulz18MGca2-a"
      },
      "source": [
        "Plota o gráfico da sentença"
      ]
    },
    {
      "cell_type": "code",
      "metadata": {
        "id": "HogpH9Nla2-a",
        "colab": {
          "base_uri": "https://localhost:8080/",
          "height": 428
        },
        "outputId": "808e4256-4a16-4f62-967f-7b3a5939d716"
      },
      "source": [
        "# Aumenta o tamanho da plotagem do gráfico\n",
        "plt.figure(figsize=(12,7))\n",
        "plt.axhline(color=\"black\")\n",
        "plt.axvline(color=\"black\")\n",
        "plt.scatter(Wp[0,:], Wp[1,:], label=documento)\n",
        "rX = max(Wp[0,:])-min(Wp[0,:])\n",
        "rY = max(Wp[1,:])-min(Wp[1,:])\n",
        "rM = max(rX, rY)\n",
        "eps = 0.005\n",
        "for i, ind in enumerate(input['input_ids'][0]):\n",
        "\n",
        "    token = tokenizer.convert_ids_to_tokens(ind.item())\n",
        "    # if token in [\"[CLS]\", \"[SEP]\"]:\n",
        "    #     plt.annotate(token, (Wp[0,i]+rX*eps, Wp[1,i]+rX*eps))\n",
        "    if token == \"banco\":\n",
        "        plt.annotate(token, (Wp[0,i]+rX*eps*-6, Wp[1,i]+rX*eps*3))\n",
        "    if i>0:\n",
        "        plt.arrow(Wp[0,i-1],Wp[1,i-1], Wp[0,i]-Wp[0,i-1], Wp[1,i]-Wp[1,i-1], color=\"lightblue\", head_length=rM*eps*3, head_width=rM*eps*2, length_includes_head=True)\n",
        "plt.legend()\n",
        "\n",
        "# Mostra o gráfico\n",
        "plt.show()"
      ],
      "execution_count": 22,
      "outputs": [
        {
          "output_type": "display_data",
          "data": {
            "text/plain": [
              "<Figure size 864x504 with 1 Axes>"
            ],
            "image/png": "[encoded data removed]"
          },
          "metadata": {
            "needs_background": "light"
          }
        }
      ]
    }
  ]
}